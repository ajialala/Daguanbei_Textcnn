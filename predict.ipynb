{
 "cells": [
  {
   "cell_type": "code",
   "execution_count": 1,
   "metadata": {
    "collapsed": true
   },
   "outputs": [],
   "source": [
    "# coding: utf-8\n",
    "from __future__ import print_function\n",
    "import os\n",
    "import tensorflow as tf\n",
    "import tensorflow.contrib.keras as kr\n",
    "from cnn_model import TCNNConfig, TextCNN\n",
    "from data.cnews_loader import read_category, read_vocab\n",
    "import pandas as pd"
   ]
  },
  {
   "cell_type": "code",
   "execution_count": 2,
   "metadata": {
    "collapsed": true
   },
   "outputs": [],
   "source": [
    "# try:\n",
    "#     bool(type(unicode))\n",
    "# except NameError:\n",
    "#     unicode = str"
   ]
  },
  {
   "cell_type": "code",
   "execution_count": 3,
   "metadata": {
    "collapsed": true
   },
   "outputs": [],
   "source": [
    "base_dir = 'data'\n",
    "vocab_dir = os.path.join(base_dir, 'vocab.txt')\n",
    "\n",
    "save_dir = 'checkpoints/textcnn'\n",
    "save_path = os.path.join(save_dir, 'best_validation')  # 最佳验证结果保存路径"
   ]
  },
  {
   "cell_type": "code",
   "execution_count": 4,
   "metadata": {
    "collapsed": false
   },
   "outputs": [],
   "source": [
    "class CnnModel:\n",
    "    def __init__(self):\n",
    "        self.config = TCNNConfig()\n",
    "        self.categories, self.cat_to_id = read_category()\n",
    "        self.words, self.word_to_id = read_vocab(vocab_dir)\n",
    "        self.config.vocab_size = len(self.words)\n",
    "        self.model = TextCNN(self.config)\n",
    "\n",
    "        self.session = tf.Session()\n",
    "        self.session.run(tf.global_variables_initializer())\n",
    "        saver = tf.train.Saver()\n",
    "        saver.restore(sess=self.session, save_path=save_path)  # 读取保存的模型\n",
    "\n",
    "    def predict(self, message):\n",
    "        # 支持不论在python2还是python3下训练的模型都可以在2或者3的环境下运行\n",
    "        #content = unicode(message)\n",
    "        content = message\n",
    "        #for x in content[:10]:\n",
    "        #    print(x)\n",
    "        data = [self.word_to_id[x] for x in content if x in self.word_to_id]\n",
    "\n",
    "        feed_dict = {\n",
    "            self.model.input_x: kr.preprocessing.sequence.pad_sequences([data], self.config.seq_length),\n",
    "            self.model.keep_prob: 1.0\n",
    "        }\n",
    "\n",
    "        y_pred_cls = self.session.run(self.model.y_pred_cls, feed_dict=feed_dict)\n",
    "        return self.categories[y_pred_cls[0]]"
   ]
  },
  {
   "cell_type": "code",
   "execution_count": 5,
   "metadata": {
    "collapsed": false
   },
   "outputs": [],
   "source": [
    "f=open('../ensemble/data/val_data')\n",
    "file=[]\n",
    "for line in f:\n",
    "    file.append(line.replace(\"\\n\",\"\").split(\",\"))\n",
    "file = pd.DataFrame(file[1:])\n",
    "file.columns=['id','article','word_seg','class']\n",
    "file['word_seg'] = file['word_seg'].str.split()"
   ]
  },
  {
   "cell_type": "code",
   "execution_count": 6,
   "metadata": {
    "collapsed": false,
    "scrolled": true
   },
   "outputs": [
    {
     "name": "stdout",
     "output_type": "stream",
     "text": [
      "INFO:tensorflow:Restoring parameters from checkpoints/textcnn/best_validation\n"
     ]
    }
   ],
   "source": [
    "cnn_model = CnnModel()"
   ]
  },
  {
   "cell_type": "code",
   "execution_count": 7,
   "metadata": {
    "collapsed": false
   },
   "outputs": [],
   "source": [
    "file['cnn_class'] = file['word_seg'].map(lambda a: cnn_model.predict(a))"
   ]
  },
  {
   "cell_type": "code",
   "execution_count": 8,
   "metadata": {
    "collapsed": false
   },
   "outputs": [
    {
     "data": {
      "text/plain": [
       "0    12\n",
       "1     9\n",
       "2     2\n",
       "3    10\n",
       "4    18\n",
       "5    16\n",
       "6    19\n",
       "7     7\n",
       "8    13\n",
       "9     2\n",
       "Name: cnn_class, dtype: object"
      ]
     },
     "execution_count": 8,
     "metadata": {},
     "output_type": "execute_result"
    }
   ],
   "source": [
    "file['cnn_class'][:10]"
   ]
  },
  {
   "cell_type": "code",
   "execution_count": 9,
   "metadata": {
    "collapsed": false
   },
   "outputs": [
    {
     "data": {
      "text/plain": [
       "10228"
      ]
     },
     "execution_count": 9,
     "metadata": {},
     "output_type": "execute_result"
    }
   ],
   "source": [
    "len(file['cnn_class'])"
   ]
  },
  {
   "cell_type": "code",
   "execution_count": 10,
   "metadata": {
    "collapsed": false
   },
   "outputs": [
    {
     "name": "stdout",
     "output_type": "stream",
     "text": [
      "{'16': 254, '15': 665, '17': 205, '1': 265, '19': 272, '10': 326, '3': 689, '8': 487, '11': 235, '9': 720, '13': 667, '18': 549, '4': 317, '7': 206, '5': 160, '12': 328, '2': 226, '14': 527, '6': 589}\n",
      "{'16': 330, '15': 769, '17': 341, '1': 544, '19': 534, '10': 506, '3': 819, '8': 683, '11': 376, '9': 763, '13': 812, '18': 648, '4': 392, '7': 321, '5': 219, '12': 518, '2': 294, '14': 660, '6': 699}\n",
      "{'10': 479, '15': 743, '8': 758, '17': 297, '1': 442, '16': 340, '3': 800, '19': 446, '11': 354, '18': 656, '13': 969, '4': 377, '7': 330, '5': 204, '12': 539, '9': 776, '2': 334, '14': 748, '6': 636}\n",
      "16:\t precision:0.747059\t recall:0.769697\t f:0.758209\n",
      "15:\t precision:0.895020\t recall:0.864759\t f:0.879630\n",
      "17:\t precision:0.690236\t recall:0.601173\t f:0.642633\n",
      "1:\t precision:0.599548\t recall:0.487132\t f:0.537525\n",
      "19:\t precision:0.609865\t recall:0.509363\t f:0.555102\n",
      "10:\t precision:0.680585\t recall:0.644269\t f:0.661929\n",
      "3:\t precision:0.861250\t recall:0.841270\t f:0.851143\n",
      "8:\t precision:0.642480\t recall:0.713031\t f:0.675920\n",
      "11:\t precision:0.663842\t recall:0.625000\t f:0.643836\n",
      "9:\t precision:0.927835\t recall:0.943644\t f:0.935673\n",
      "13:\t precision:0.688338\t recall:0.821429\t f:0.749017\n",
      "18:\t precision:0.836890\t recall:0.847222\t f:0.842025\n",
      "4:\t precision:0.840849\t recall:0.808673\t f:0.824447\n",
      "7:\t precision:0.624242\t recall:0.641745\t f:0.632873\n",
      "5:\t precision:0.784314\t recall:0.730594\t f:0.756501\n",
      "12:\t precision:0.608534\t recall:0.633205\t f:0.620624\n",
      "2:\t precision:0.676647\t recall:0.768707\t f:0.719745\n",
      "14:\t precision:0.704545\t recall:0.798485\t f:0.748580\n",
      "6:\t precision:0.926101\t recall:0.842632\t f:0.882397\n",
      "0.7325161895946463\n"
     ]
    }
   ],
   "source": [
    "labels_right = []\n",
    "labels_predict = []\n",
    "\n",
    "A = dict.fromkeys(file['class'],0)  #预测正确的各个类的数目\n",
    "B = dict.fromkeys(file['class'],0)   #测试数据集中各个类的数目\n",
    "C = dict.fromkeys(file['cnn_class'],0) #预测结果中各个类的数目\n",
    "for i in range(0,len(file['class'])):\n",
    "    B[file['class'][i]] += 1\n",
    "    C[file['cnn_class'][i]] += 1\n",
    "    if file['class'][i] == file['cnn_class'][i]:\n",
    "        A[file['class'][i]] += 1\n",
    "print (A)\n",
    "print (B)\n",
    "print (C)\n",
    "F1 = 0\n",
    "#计算准确率，召回率，F值\n",
    "for key in B:\n",
    "    try:\n",
    "        r = float(A[key]) / float(B[key])\n",
    "        p = float(A[key]) / float(C[key])\n",
    "        f = p * r * 2 / (p + r)\n",
    "        F1 += f\n",
    "        print (\"%s:\\t precision:%f\\t recall:%f\\t f:%f\" % (key,p,r,f))\n",
    "    except:\n",
    "        print (\"error:\", key, \"right:\", A.get(key,0), \"real:\", B.get(key,0), \"predict:\",C.get(key,0))\n",
    "print(F1/19)"
   ]
  },
  {
   "cell_type": "markdown",
   "metadata": {
    "collapsed": true
   },
   "source": [
    "i=0\n",
    "fid0=open('../ensemble/result/result_test_cnn.csv','w')\n",
    "fid0.write(\"id,class\"+\"\\n\")\n",
    "for item in file['cnn_class']:\n",
    "    fid0.write(str(i)+\",\"+str(item)+\"\\n\")\n",
    "    i=i+1\n",
    "fid0.close()"
   ]
  }
 ],
 "metadata": {
  "anaconda-cloud": {},
  "kernelspec": {
   "display_name": "Python [conda env:anaconda3]",
   "language": "python",
   "name": "conda-env-anaconda3-py"
  },
  "language_info": {
   "codemirror_mode": {
    "name": "ipython",
    "version": 3
   },
   "file_extension": ".py",
   "mimetype": "text/x-python",
   "name": "python",
   "nbconvert_exporter": "python",
   "pygments_lexer": "ipython3",
   "version": "3.5.2"
  }
 },
 "nbformat": 4,
 "nbformat_minor": 2
}
